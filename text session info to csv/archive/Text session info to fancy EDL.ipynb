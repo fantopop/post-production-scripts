{
 "cells": [
  {
   "cell_type": "markdown",
   "metadata": {
    "deletable": true,
    "editable": true
   },
   "source": [
    "## Script description\n",
    "Simple script to read file, exported from Pro Tools using 'Export session info as text' tool, and write a copy of this file with columns: 'EVENT', 'START', 'END', 'DURATION' only.\n",
    "\n",
    "Before running the script, modify the input file and delete all lines with session info, including the line with column names: 'CHANNEL    EVENT    CLIP NAME ...'\n",
    "\n",
    "1. Type in the input file name to filename variable in 'Import data' section.  \n",
    "2. [Optional] Specify outout filename.  \n",
    "3. Run all cells."
   ]
  },
  {
   "cell_type": "markdown",
   "metadata": {
    "deletable": true,
    "editable": true
   },
   "source": [
    "## Importing data"
   ]
  },
  {
   "cell_type": "code",
   "execution_count": 1,
   "metadata": {
    "collapsed": false,
    "deletable": true,
    "editable": true
   },
   "outputs": [
    {
     "name": "stdout",
     "output_type": "stream",
     "text": [
      "Output filename: EDL edited.txt\n"
     ]
    }
   ],
   "source": [
    "import pandas as pd\n",
    "\n",
    "# Type the name of the input file here:\n",
    "filename = 'EDL.txt'\n",
    "\n",
    "split = filename.split('.')\n",
    "if split[1]:\n",
    "    output = '.'.join([split[0] + ' edited', split[1]])\n",
    "else:\n",
    "    output = filename + ' edited'\n",
    "\n",
    "print('Output filename: %s' % output)\n",
    "\n",
    "# Type the name of the output file here.\n",
    "# output = 'output_file_name.extension'\n",
    "# If not specified, ' edited' will be added to the input filename.\n",
    "\n",
    "names = ['CHANNEL', 'EVENT', 'CLIP_NAME', 'START', 'END', 'DURATION', 'STATE']\n",
    "data = pd.read_table(filename, names=names, sep='\\s+', index_col='EVENT')"
   ]
  },
  {
   "cell_type": "markdown",
   "metadata": {
    "deletable": true,
    "editable": true
   },
   "source": [
    "## Exporting to file"
   ]
  },
  {
   "cell_type": "code",
   "execution_count": 2,
   "metadata": {
    "collapsed": false,
    "deletable": true,
    "editable": true
   },
   "outputs": [],
   "source": [
    "export = data.loc[:,['START', 'END', 'DURATION']]\n",
    "export.to_csv(output, sep='\\t')"
   ]
  },
  {
   "cell_type": "markdown",
   "metadata": {
    "deletable": true,
    "editable": true
   },
   "source": [
    "## Exported file:"
   ]
  },
  {
   "cell_type": "code",
   "execution_count": 3,
   "metadata": {
    "collapsed": false,
    "deletable": true,
    "editable": true
   },
   "outputs": [
    {
     "name": "stdout",
     "output_type": "stream",
     "text": [
      "             START          END     DURATION\n",
      "EVENT                                       \n",
      "1      01:04:01:13  01:04:27:03  00:00:25:14\n",
      "2      01:05:46:08  01:06:13:20  00:00:27:12\n",
      "3      01:07:51:18  01:07:59:11  00:00:07:17\n",
      "4      01:12:57:03  01:13:07:10  00:00:10:07\n",
      "5      01:13:43:08  01:15:01:17  00:01:18:09\n",
      "6      01:15:01:17  01:15:11:11  00:00:09:18\n",
      "7      01:15:58:00  01:16:25:20  00:00:27:20\n",
      "8      01:18:12:21  01:18:17:05  00:00:04:08\n",
      "9      01:19:12:19  01:20:50:13  00:01:37:18\n",
      "10     01:27:49:04  01:29:51:03  00:02:01:23\n",
      "11     01:32:30:06  01:32:56:15  00:00:26:09\n",
      "12     01:40:14:05  01:40:38:02  00:00:23:21\n",
      "13     01:46:34:12  01:46:41:06  00:00:06:18\n",
      "14     02:03:19:03  02:03:26:01  00:00:06:22\n",
      "15     02:23:40:19  02:24:38:03  00:00:57:08\n",
      "16     02:33:00:11  02:33:25:11  00:00:25:00\n",
      "17     02:36:41:10  02:37:42:23  00:01:01:13\n"
     ]
    }
   ],
   "source": [
    "print(export)"
   ]
  },
  {
   "cell_type": "markdown",
   "metadata": {},
   "source": [
    "## Shift timecode on fixed value"
   ]
  },
  {
   "cell_type": "code",
   "execution_count": 22,
   "metadata": {
    "collapsed": false
   },
   "outputs": [
    {
     "name": "stdout",
     "output_type": "stream",
     "text": [
      "             START          END     DURATION\n",
      "EVENT                                       \n",
      "1      01:04:01:13  01:04:27:03  00:00:25:14\n",
      "2      01:05:46:08  01:06:13:20  00:00:27:12\n",
      "3      01:07:51:18  01:07:59:11  00:00:07:17\n",
      "4      01:12:57:03  01:13:07:10  00:00:10:07\n",
      "5      01:13:43:08  01:15:01:17  00:01:18:09\n",
      "6      01:15:01:17  01:15:11:11  00:00:09:18\n",
      "7      01:15:58:00  01:16:25:20  00:00:27:20\n",
      "8      01:18:12:21  01:18:17:05  00:00:04:08\n",
      "9      01:19:12:19  01:20:50:13  00:01:37:18\n",
      "10     01:27:49:04  01:29:51:03  00:02:01:23\n",
      "11     01:32:30:06  01:32:56:15  00:00:26:09\n",
      "12     01:40:14:05  01:40:38:02  00:00:23:21\n",
      "13     01:46:34:12  01:46:41:06  00:00:06:18\n",
      "14     02:03:19:03  02:03:26:01  00:00:06:22\n",
      "15     02:23:40:19  02:24:38:03  00:00:57:08\n",
      "16     02:33:00:11  02:33:25:11  00:00:25:00\n",
      "17     02:36:41:10  02:37:42:23  00:01:01:13\n"
     ]
    }
   ],
   "source": [
    "import pandas as pd\n",
    "from timecode import Timecode as TC\n",
    "\n",
    "filename = 'input.txt'\n",
    "data = pd.read_table(filename, index_col='EVENT')\n",
    "print(data)"
   ]
  },
  {
   "cell_type": "code",
   "execution_count": 45,
   "metadata": {
    "collapsed": false
   },
   "outputs": [
    {
     "name": "stdout",
     "output_type": "stream",
     "text": [
      "             START          END\n",
      "EVENT                          \n",
      "1      01:05:05:14  01:05:31:04\n",
      "2      01:06:50:09  01:07:17:21\n",
      "3      01:08:55:19  01:09:03:12\n",
      "4      01:14:01:04  01:14:11:11\n",
      "5      01:14:47:09  01:16:05:18\n",
      "6      01:16:05:18  01:16:15:12\n",
      "7      01:17:02:01  01:17:29:21\n",
      "8      01:19:16:22  01:19:21:06\n",
      "9      01:20:16:20  01:21:54:14\n",
      "10     01:28:53:05  01:30:55:04\n",
      "11     01:33:34:07  01:34:00:16\n",
      "12     01:41:18:06  01:41:42:03\n",
      "13     01:47:38:13  01:47:45:07\n",
      "14     02:04:23:04  02:04:30:02\n",
      "15     02:24:44:20  02:25:42:04\n",
      "16     02:34:04:12  02:34:29:12\n",
      "17     02:37:45:11  02:38:47:00\n"
     ]
    }
   ],
   "source": [
    "start_end = pd.DataFrame(data.loc[:,['START','END']])\n",
    "shift = TC('24', '00:01:04:00')\n",
    "\n",
    "shifted = start_end.applymap(lambda x: TC('24', x) + shift)\n",
    "\n",
    "print(shifted)"
   ]
  }
 ],
 "metadata": {
  "kernelspec": {
   "display_name": "Python 3",
   "language": "python",
   "name": "python3"
  },
  "language_info": {
   "codemirror_mode": {
    "name": "ipython",
    "version": 3
   },
   "file_extension": ".py",
   "mimetype": "text/x-python",
   "name": "python",
   "nbconvert_exporter": "python",
   "pygments_lexer": "ipython3",
   "version": "3.6.0"
  }
 },
 "nbformat": 4,
 "nbformat_minor": 2
}
